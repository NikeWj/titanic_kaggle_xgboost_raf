{
 "cells": [
  {
   "cell_type": "code",
   "execution_count": 1,
   "metadata": {},
   "outputs": [],
   "source": [
    "import warnings\n",
    "warnings.filterwarnings('ignore')\n",
    "import numpy as np\n",
    "import pandas as pd\n",
    "import seaborn as sns\n",
    "\n",
    "#设置sns样式\n",
    "sns.set(style='white',context='notebook',palette='muted')\n",
    "\n",
    "import matplotlib.pyplot as plt\n",
    "\n",
    "#导入数据\n",
    "train = pd.read_csv('train.csv')\n",
    "test = pd.read_csv('test.csv')"
   ]
  },
  {
   "cell_type": "code",
   "execution_count": 2,
   "metadata": {},
   "outputs": [
    {
     "name": "stdout",
     "output_type": "stream",
     "text": [
      "(891, 12)\n",
      "(418, 11)\n"
     ]
    }
   ],
   "source": [
    "#查看形状\n",
    "print(train.shape)\n",
    "print(test.shape)"
   ]
  },
  {
   "cell_type": "code",
   "execution_count": 3,
   "metadata": {},
   "outputs": [
    {
     "data": {
      "text/html": [
       "<div>\n",
       "<style scoped>\n",
       "    .dataframe tbody tr th:only-of-type {\n",
       "        vertical-align: middle;\n",
       "    }\n",
       "\n",
       "    .dataframe tbody tr th {\n",
       "        vertical-align: top;\n",
       "    }\n",
       "\n",
       "    .dataframe thead th {\n",
       "        text-align: right;\n",
       "    }\n",
       "</style>\n",
       "<table border=\"1\" class=\"dataframe\">\n",
       "  <thead>\n",
       "    <tr style=\"text-align: right;\">\n",
       "      <th></th>\n",
       "      <th>Age</th>\n",
       "      <th>Fare</th>\n",
       "      <th>Parch</th>\n",
       "      <th>PassengerId</th>\n",
       "      <th>Pclass</th>\n",
       "      <th>SibSp</th>\n",
       "      <th>Survived</th>\n",
       "    </tr>\n",
       "  </thead>\n",
       "  <tbody>\n",
       "    <tr>\n",
       "      <th>count</th>\n",
       "      <td>1046.000000</td>\n",
       "      <td>1308.000000</td>\n",
       "      <td>1309.000000</td>\n",
       "      <td>1309.000000</td>\n",
       "      <td>1309.000000</td>\n",
       "      <td>1309.000000</td>\n",
       "      <td>891.000000</td>\n",
       "    </tr>\n",
       "    <tr>\n",
       "      <th>mean</th>\n",
       "      <td>29.881138</td>\n",
       "      <td>33.295479</td>\n",
       "      <td>0.385027</td>\n",
       "      <td>655.000000</td>\n",
       "      <td>2.294882</td>\n",
       "      <td>0.498854</td>\n",
       "      <td>0.383838</td>\n",
       "    </tr>\n",
       "    <tr>\n",
       "      <th>std</th>\n",
       "      <td>14.413493</td>\n",
       "      <td>51.758668</td>\n",
       "      <td>0.865560</td>\n",
       "      <td>378.020061</td>\n",
       "      <td>0.837836</td>\n",
       "      <td>1.041658</td>\n",
       "      <td>0.486592</td>\n",
       "    </tr>\n",
       "    <tr>\n",
       "      <th>min</th>\n",
       "      <td>0.170000</td>\n",
       "      <td>0.000000</td>\n",
       "      <td>0.000000</td>\n",
       "      <td>1.000000</td>\n",
       "      <td>1.000000</td>\n",
       "      <td>0.000000</td>\n",
       "      <td>0.000000</td>\n",
       "    </tr>\n",
       "    <tr>\n",
       "      <th>25%</th>\n",
       "      <td>21.000000</td>\n",
       "      <td>7.895800</td>\n",
       "      <td>0.000000</td>\n",
       "      <td>328.000000</td>\n",
       "      <td>2.000000</td>\n",
       "      <td>0.000000</td>\n",
       "      <td>0.000000</td>\n",
       "    </tr>\n",
       "    <tr>\n",
       "      <th>50%</th>\n",
       "      <td>28.000000</td>\n",
       "      <td>14.454200</td>\n",
       "      <td>0.000000</td>\n",
       "      <td>655.000000</td>\n",
       "      <td>3.000000</td>\n",
       "      <td>0.000000</td>\n",
       "      <td>0.000000</td>\n",
       "    </tr>\n",
       "    <tr>\n",
       "      <th>75%</th>\n",
       "      <td>39.000000</td>\n",
       "      <td>31.275000</td>\n",
       "      <td>0.000000</td>\n",
       "      <td>982.000000</td>\n",
       "      <td>3.000000</td>\n",
       "      <td>1.000000</td>\n",
       "      <td>1.000000</td>\n",
       "    </tr>\n",
       "    <tr>\n",
       "      <th>max</th>\n",
       "      <td>80.000000</td>\n",
       "      <td>512.329200</td>\n",
       "      <td>9.000000</td>\n",
       "      <td>1309.000000</td>\n",
       "      <td>3.000000</td>\n",
       "      <td>8.000000</td>\n",
       "      <td>1.000000</td>\n",
       "    </tr>\n",
       "  </tbody>\n",
       "</table>\n",
       "</div>"
      ],
      "text/plain": [
       "               Age         Fare        Parch  PassengerId       Pclass  \\\n",
       "count  1046.000000  1308.000000  1309.000000  1309.000000  1309.000000   \n",
       "mean     29.881138    33.295479     0.385027   655.000000     2.294882   \n",
       "std      14.413493    51.758668     0.865560   378.020061     0.837836   \n",
       "min       0.170000     0.000000     0.000000     1.000000     1.000000   \n",
       "25%      21.000000     7.895800     0.000000   328.000000     2.000000   \n",
       "50%      28.000000    14.454200     0.000000   655.000000     3.000000   \n",
       "75%      39.000000    31.275000     0.000000   982.000000     3.000000   \n",
       "max      80.000000   512.329200     9.000000  1309.000000     3.000000   \n",
       "\n",
       "             SibSp    Survived  \n",
       "count  1309.000000  891.000000  \n",
       "mean      0.498854    0.383838  \n",
       "std       1.041658    0.486592  \n",
       "min       0.000000    0.000000  \n",
       "25%       0.000000    0.000000  \n",
       "50%       0.000000    0.000000  \n",
       "75%       1.000000    1.000000  \n",
       "max       8.000000    1.000000  "
      ]
     },
     "execution_count": 3,
     "metadata": {},
     "output_type": "execute_result"
    }
   ],
   "source": [
    "#train 和test合并一起处理缺失值和异常值\n",
    "full = train.append(test,ignore_index=True)\n",
    "full.describe()"
   ]
  },
  {
   "cell_type": "code",
   "execution_count": 4,
   "metadata": {},
   "outputs": [
    {
     "name": "stdout",
     "output_type": "stream",
     "text": [
      "<class 'pandas.core.frame.DataFrame'>\n",
      "RangeIndex: 1309 entries, 0 to 1308\n",
      "Data columns (total 12 columns):\n",
      "Age            1046 non-null float64\n",
      "Cabin          295 non-null object\n",
      "Embarked       1307 non-null object\n",
      "Fare           1308 non-null float64\n",
      "Name           1309 non-null object\n",
      "Parch          1309 non-null int64\n",
      "PassengerId    1309 non-null int64\n",
      "Pclass         1309 non-null int64\n",
      "Sex            1309 non-null object\n",
      "SibSp          1309 non-null int64\n",
      "Survived       891 non-null float64\n",
      "Ticket         1309 non-null object\n",
      "dtypes: float64(3), int64(4), object(5)\n",
      "memory usage: 122.8+ KB\n"
     ]
    }
   ],
   "source": [
    "full.info()"
   ]
  },
  {
   "cell_type": "code",
   "execution_count": 5,
   "metadata": {},
   "outputs": [
    {
     "data": {
      "text/plain": [
       "Age             263\n",
       "Cabin          1014\n",
       "Embarked          2\n",
       "Fare              1\n",
       "Name              0\n",
       "Parch             0\n",
       "PassengerId       0\n",
       "Pclass            0\n",
       "Sex               0\n",
       "SibSp             0\n",
       "Survived        418\n",
       "Ticket            0\n",
       "dtype: int64"
      ]
     },
     "execution_count": 5,
     "metadata": {},
     "output_type": "execute_result"
    }
   ],
   "source": [
    "full.isnull().sum()"
   ]
  },
  {
   "cell_type": "code",
   "execution_count": 6,
   "metadata": {},
   "outputs": [
    {
     "data": {
      "text/plain": [
       "<matplotlib.axes._subplots.AxesSubplot at 0x1a1767c908>"
      ]
     },
     "execution_count": 6,
     "metadata": {},
     "output_type": "execute_result"
    },
    {
     "data": {
      "image/png": "[encoded data removed]",
      "text/plain": [
       "<Figure size 432x288 with 1 Axes>"
      ]
     },
     "metadata": {
      "needs_background": "light"
     },
     "output_type": "display_data"
    }
   ],
   "source": [
    "#各个特征与生存率之前的关系\n",
    "#Embarked\n",
    "sns.barplot(data = train,x='Embarked',y='Survived')"
   ]
  },
  {
   "cell_type": "code",
   "execution_count": 7,
   "metadata": {},
   "outputs": [
    {
     "data": {
      "text/plain": [
       "<matplotlib.axes._subplots.AxesSubplot at 0x1a1773db38>"
      ]
     },
     "execution_count": 7,
     "metadata": {},
     "output_type": "execute_result"
    },
    {
     "data": {
      "image/png": "[encoded data removed]",
      "text/plain": [
       "<Figure size 432x288 with 1 Axes>"
      ]
     },
     "metadata": {
      "needs_background": "light"
     },
     "output_type": "display_data"
    }
   ],
   "source": [
    "#parch\n",
    "sns.barplot(data = train,x='Parch',y='Survived')"
   ]
  },
  {
   "cell_type": "code",
   "execution_count": 8,
   "metadata": {},
   "outputs": [
    {
     "data": {
      "text/plain": [
       "<matplotlib.axes._subplots.AxesSubplot at 0x103367eb8>"
      ]
     },
     "execution_count": 8,
     "metadata": {},
     "output_type": "execute_result"
    },
    {
     "data": {
      "image/png": "[encoded data removed]",
      "text/plain": [
       "<Figure size 432x288 with 1 Axes>"
      ]
     },
     "metadata": {
      "needs_background": "light"
     },
     "output_type": "display_data"
    }
   ],
   "source": [
    "#sibsp\n",
    "sns.barplot(data = train,x='SibSp',y='Survived')"
   ]
  },
  {
   "cell_type": "code",
   "execution_count": 9,
   "metadata": {},
   "outputs": [
    {
     "data": {
      "text/plain": [
       "<matplotlib.axes._subplots.AxesSubplot at 0x1a17727630>"
      ]
     },
     "execution_count": 9,
     "metadata": {},
     "output_type": "execute_result"
    },
    {
     "data": {
      "image/png": "[encoded data removed]",
      "text/plain": [
       "<Figure size 432x288 with 1 Axes>"
      ]
     },
     "metadata": {
      "needs_background": "light"
     },
     "output_type": "display_data"
    }
   ],
   "source": [
    "#pclass\n",
    "sns.barplot(data = train,x='Pclass',y='Survived')"
   ]
  },
  {
   "cell_type": "code",
   "execution_count": 10,
   "metadata": {},
   "outputs": [
    {
     "data": {
      "text/plain": [
       "<matplotlib.axes._subplots.AxesSubplot at 0x1a17e72320>"
      ]
     },
     "execution_count": 10,
     "metadata": {},
     "output_type": "execute_result"
    },
    {
     "data": {
      "image/png": "[encoded data removed]",
      "text/plain": [
       "<Figure size 432x288 with 1 Axes>"
      ]
     },
     "metadata": {
      "needs_background": "light"
     },
     "output_type": "display_data"
    }
   ],
   "source": [
    "#sex\n",
    "sns.barplot(data = train,x='Sex',y='Survived')"
   ]
  },
  {
   "cell_type": "code",
   "execution_count": 11,
   "metadata": {},
   "outputs": [
    {
     "data": {
      "text/plain": [
       "<seaborn.axisgrid.FacetGrid at 0x1a17f3d128>"
      ]
     },
     "execution_count": 11,
     "metadata": {},
     "output_type": "execute_result"
    },
    {
     "data": {
      "image/png": "[encoded data removed]",
      "text/plain": [
       "<Figure size 696.425x216 with 1 Axes>"
      ]
     },
     "metadata": {
      "needs_background": "light"
     },
     "output_type": "display_data"
    }
   ],
   "source": [
    "#age\n",
    "#创建坐标系\n",
    "ageFacet= sns.FacetGrid(train,hue = 'Survived',aspect =3)\n",
    "#选择图类型\n",
    "ageFacet.map(sns.kdeplot,'Age',shade=True)\n",
    "#设置坐标轴范围\n",
    "ageFacet.set(xlim = (0,train['Age'].max()))\n",
    "ageFacet.add_legend()\n",
    "\n"
   ]
  },
  {
   "cell_type": "code",
   "execution_count": 12,
   "metadata": {},
   "outputs": [
    {
     "data": {
      "text/plain": [
       "<seaborn.axisgrid.FacetGrid at 0x10423d860>"
      ]
     },
     "execution_count": 12,
     "metadata": {},
     "output_type": "execute_result"
    },
    {
     "data": {
      "image/png": "[encoded data removed]",
      "text/plain": [
       "<Figure size 696.425x216 with 1 Axes>"
      ]
     },
     "metadata": {
      "needs_background": "light"
     },
     "output_type": "display_data"
    }
   ],
   "source": [
    "#fare\n",
    "ageFacet= sns.FacetGrid(train,hue = 'Survived',aspect =3)\n",
    "ageFacet.map(sns.kdeplot,'Fare',shade=True)\n",
    "ageFacet.set(xlim = (0,150))\n",
    "ageFacet.add_legend()\n"
   ]
  },
  {
   "cell_type": "code",
   "execution_count": 13,
   "metadata": {},
   "outputs": [
    {
     "name": "stderr",
     "output_type": "stream",
     "text": [
      "No handles with labels found to put in legend.\n"
     ]
    },
    {
     "data": {
      "text/plain": [
       "<matplotlib.legend.Legend at 0x1a180c00b8>"
      ]
     },
     "execution_count": 13,
     "metadata": {},
     "output_type": "execute_result"
    },
    {
     "data": {
      "image/png": "[encoded data removed]",
      "text/plain": [
       "<Figure size 432x288 with 1 Axes>"
      ]
     },
     "metadata": {
      "needs_background": "light"
     },
     "output_type": "display_data"
    }
   ],
   "source": [
    "#查看fare分布\n",
    "farePlot=sns.distplot(full['Fare'][full['Fare'].notnull()])\n",
    "farePlot.legend(loc='best')"
   ]
  },
  {
   "cell_type": "code",
   "execution_count": 14,
   "metadata": {},
   "outputs": [],
   "source": [
    "full['Fare']=np.log(full['Fare']+1)"
   ]
  },
  {
   "cell_type": "code",
   "execution_count": 15,
   "metadata": {},
   "outputs": [
    {
     "name": "stderr",
     "output_type": "stream",
     "text": [
      "No handles with labels found to put in legend.\n"
     ]
    },
    {
     "data": {
      "text/plain": [
       "<matplotlib.legend.Legend at 0x1a182462b0>"
      ]
     },
     "execution_count": 15,
     "metadata": {},
     "output_type": "execute_result"
    },
    {
     "data": {
      "image/png": "[encoded data removed]",
      "text/plain": [
       "<Figure size 432x288 with 1 Axes>"
      ]
     },
     "metadata": {
      "needs_background": "light"
     },
     "output_type": "display_data"
    }
   ],
   "source": [
    "farePlot=sns.distplot(full['Fare'][full['Fare'].notnull()])\n",
    "farePlot.legend(loc='best')"
   ]
  },
  {
   "cell_type": "code",
   "execution_count": 16,
   "metadata": {},
   "outputs": [
    {
     "name": "stderr",
     "output_type": "stream",
     "text": [
      "No handles with labels found to put in legend.\n"
     ]
    },
    {
     "data": {
      "text/plain": [
       "<matplotlib.legend.Legend at 0x1a18246c18>"
      ]
     },
     "execution_count": 16,
     "metadata": {},
     "output_type": "execute_result"
    },
    {
     "data": {
      "image/png": "[encoded data removed]",
      "text/plain": [
       "<Figure size 432x288 with 1 Axes>"
      ]
     },
     "metadata": {
      "needs_background": "light"
     },
     "output_type": "display_data"
    }
   ],
   "source": [
    "full['Fare']=full['Fare'].map(lambda x: np.log(x) if x>0 else 0)\n",
    "farePlot=sns.distplot(full['Fare'][full['Fare'].notnull()])\n",
    "farePlot.legend(loc='best')"
   ]
  },
  {
   "cell_type": "code",
   "execution_count": 17,
   "metadata": {},
   "outputs": [],
   "source": [
    "#数据预处理\n",
    "\n",
    "#carbin缺失值填充 U = unkonwn\n",
    "full['Cabin'] = full['Cabin'].fillna('U')"
   ]
  },
  {
   "cell_type": "code",
   "execution_count": 18,
   "metadata": {},
   "outputs": [
    {
     "data": {
      "text/html": [
       "<div>\n",
       "<style scoped>\n",
       "    .dataframe tbody tr th:only-of-type {\n",
       "        vertical-align: middle;\n",
       "    }\n",
       "\n",
       "    .dataframe tbody tr th {\n",
       "        vertical-align: top;\n",
       "    }\n",
       "\n",
       "    .dataframe thead th {\n",
       "        text-align: right;\n",
       "    }\n",
       "</style>\n",
       "<table border=\"1\" class=\"dataframe\">\n",
       "  <thead>\n",
       "    <tr style=\"text-align: right;\">\n",
       "      <th></th>\n",
       "      <th>Age</th>\n",
       "      <th>Cabin</th>\n",
       "      <th>Embarked</th>\n",
       "      <th>Fare</th>\n",
       "      <th>Name</th>\n",
       "      <th>Parch</th>\n",
       "      <th>PassengerId</th>\n",
       "      <th>Pclass</th>\n",
       "      <th>Sex</th>\n",
       "      <th>SibSp</th>\n",
       "      <th>Survived</th>\n",
       "      <th>Ticket</th>\n",
       "    </tr>\n",
       "  </thead>\n",
       "  <tbody>\n",
       "    <tr>\n",
       "      <th>61</th>\n",
       "      <td>38.0</td>\n",
       "      <td>B28</td>\n",
       "      <td>NaN</td>\n",
       "      <td>1.480342</td>\n",
       "      <td>Icard, Miss. Amelie</td>\n",
       "      <td>0</td>\n",
       "      <td>62</td>\n",
       "      <td>1</td>\n",
       "      <td>female</td>\n",
       "      <td>0</td>\n",
       "      <td>1.0</td>\n",
       "      <td>113572</td>\n",
       "    </tr>\n",
       "    <tr>\n",
       "      <th>829</th>\n",
       "      <td>62.0</td>\n",
       "      <td>B28</td>\n",
       "      <td>NaN</td>\n",
       "      <td>1.480342</td>\n",
       "      <td>Stone, Mrs. George Nelson (Martha Evelyn)</td>\n",
       "      <td>0</td>\n",
       "      <td>830</td>\n",
       "      <td>1</td>\n",
       "      <td>female</td>\n",
       "      <td>0</td>\n",
       "      <td>1.0</td>\n",
       "      <td>113572</td>\n",
       "    </tr>\n",
       "  </tbody>\n",
       "</table>\n",
       "</div>"
      ],
      "text/plain": [
       "      Age Cabin Embarked      Fare                                       Name  \\\n",
       "61   38.0   B28      NaN  1.480342                        Icard, Miss. Amelie   \n",
       "829  62.0   B28      NaN  1.480342  Stone, Mrs. George Nelson (Martha Evelyn)   \n",
       "\n",
       "     Parch  PassengerId  Pclass     Sex  SibSp  Survived  Ticket  \n",
       "61       0           62       1  female      0       1.0  113572  \n",
       "829      0          830       1  female      0       1.0  113572  "
      ]
     },
     "execution_count": 18,
     "metadata": {},
     "output_type": "execute_result"
    }
   ],
   "source": [
    "#embarked\n",
    "full[full['Embarked'].isnull()]"
   ]
  },
  {
   "cell_type": "code",
   "execution_count": 19,
   "metadata": {},
   "outputs": [],
   "source": [
    "full['Embarked'] = full['Embarked'].fillna('S')"
   ]
  },
  {
   "cell_type": "code",
   "execution_count": 20,
   "metadata": {},
   "outputs": [
    {
     "data": {
      "text/plain": [
       "0                              Braund, Mr. Owen Harris\n",
       "1    Cumings, Mrs. John Bradley (Florence Briggs Th...\n",
       "2                               Heikkinen, Miss. Laina\n",
       "3         Futrelle, Mrs. Jacques Heath (Lily May Peel)\n",
       "4                             Allen, Mr. William Henry\n",
       "Name: Name, dtype: object"
      ]
     },
     "execution_count": 20,
     "metadata": {},
     "output_type": "execute_result"
    }
   ],
   "source": [
    "full['Name'][:5]"
   ]
  },
  {
   "cell_type": "code",
   "execution_count": 21,
   "metadata": {},
   "outputs": [
    {
     "data": {
      "text/plain": [
       "Mr              757\n",
       "Miss            260\n",
       "Mrs             197\n",
       "Master           61\n",
       "Rev               8\n",
       "Dr                8\n",
       "Col               4\n",
       "Ms                2\n",
       "Mlle              2\n",
       "Major             2\n",
       "Capt              1\n",
       "Dona              1\n",
       "Mme               1\n",
       "Don               1\n",
       "the Countess      1\n",
       "Lady              1\n",
       "Sir               1\n",
       "Jonkheer          1\n",
       "Name: Title, dtype: int64"
      ]
     },
     "execution_count": 21,
     "metadata": {},
     "output_type": "execute_result"
    }
   ],
   "source": [
    "#特征工程\n",
    "#提取乘客的头衔类似 Mr,miss,mre,master,rev等等\n",
    "full['Title'] = full['Name'].map(lambda x:x.split(',')[1].split('.')[0].strip())\n",
    "full['Title'].value_counts()"
   ]
  },
  {
   "cell_type": "code",
   "execution_count": 22,
   "metadata": {},
   "outputs": [
    {
     "data": {
      "text/plain": [
       "Mr         757\n",
       "Miss       262\n",
       "Mrs        200\n",
       "Master      62\n",
       "Officer     23\n",
       "Royalty      5\n",
       "Name: Title, dtype: int64"
      ]
     },
     "execution_count": 22,
     "metadata": {},
     "output_type": "execute_result"
    }
   ],
   "source": [
    "#将title信息进行整合\n",
    "TitleDict={}\n",
    "TitleDict['Mr']='Mr'\n",
    "TitleDict['Mlle']='Miss'\n",
    "TitleDict['Miss']='Miss'\n",
    "TitleDict['Master']='Master'\n",
    "TitleDict['Jonkheer']='Master'\n",
    "TitleDict['Mme']='Mrs'\n",
    "TitleDict['Ms']='Mrs'\n",
    "TitleDict['Mrs']='Mrs'\n",
    "TitleDict['Don']='Royalty'\n",
    "TitleDict['Sir']='Royalty'\n",
    "TitleDict['the Countess']='Royalty'\n",
    "TitleDict['Dona']='Royalty'\n",
    "TitleDict['Lady']='Royalty'\n",
    "TitleDict['Capt']='Officer'\n",
    "TitleDict['Col']='Officer'\n",
    "TitleDict['Major']='Officer'\n",
    "TitleDict['Dr']='Officer'\n",
    "TitleDict['Rev']='Officer'\n",
    "\n",
    "full['Title']=full['Title'].map(TitleDict)\n",
    "full['Title'].value_counts()"
   ]
  },
  {
   "cell_type": "code",
   "execution_count": 23,
   "metadata": {},
   "outputs": [
    {
     "data": {
      "text/plain": [
       "<matplotlib.axes._subplots.AxesSubplot at 0x1a184c9908>"
      ]
     },
     "execution_count": 23,
     "metadata": {},
     "output_type": "execute_result"
    },
    {
     "data": {
      "image/png": "[encoded data removed]",
      "text/plain": [
       "<Figure size 432x288 with 1 Axes>"
      ]
     },
     "metadata": {
      "needs_background": "light"
     },
     "output_type": "display_data"
    }
   ],
   "source": [
    "#name和生存的关系\n",
    "sns.barplot(data=full,x='Title',y='Survived')"
   ]
  },
  {
   "cell_type": "code",
   "execution_count": 24,
   "metadata": {},
   "outputs": [
    {
     "data": {
      "text/plain": [
       "<matplotlib.axes._subplots.AxesSubplot at 0x1a185b2d30>"
      ]
     },
     "execution_count": 24,
     "metadata": {},
     "output_type": "execute_result"
    },
    {
     "data": {
      "image/png": "[encoded data removed]",
      "text/plain": [
       "<Figure size 432x288 with 1 Axes>"
      ]
     },
     "metadata": {
      "needs_background": "light"
     },
     "output_type": "display_data"
    }
   ],
   "source": [
    "#家庭成员合到一起\n",
    "full['familyNum'] = full['SibSp'] +full['Parch']+1\n",
    "sns.barplot(data=full,x='familyNum',y='Survived')"
   ]
  },
  {
   "cell_type": "code",
   "execution_count": 25,
   "metadata": {},
   "outputs": [
    {
     "data": {
      "text/plain": [
       "0    790\n",
       "1    437\n",
       "2     82\n",
       "Name: familySize, dtype: int64"
      ]
     },
     "execution_count": 25,
     "metadata": {},
     "output_type": "execute_result"
    }
   ],
   "source": [
    "#把家庭人数分类成三类\n",
    "\n",
    "def familysize(familynum):\n",
    "    if familynum ==1:\n",
    "        return 0\n",
    "    elif (familynum >=2 and familynum <=4):\n",
    "        return 1\n",
    "    else:\n",
    "        return 2\n",
    "    \n",
    "full['familySize'] = full['familyNum'].map(familysize)\n",
    "full['familySize'].value_counts()"
   ]
  },
  {
   "cell_type": "code",
   "execution_count": 26,
   "metadata": {},
   "outputs": [
    {
     "data": {
      "text/plain": [
       "<matplotlib.axes._subplots.AxesSubplot at 0x1a185bda58>"
      ]
     },
     "execution_count": 26,
     "metadata": {},
     "output_type": "execute_result"
    },
    {
     "data": {
      "image/png": "[encoded data removed]",
      "text/plain": [
       "<Figure size 432x288 with 1 Axes>"
      ]
     },
     "metadata": {
      "needs_background": "light"
     },
     "output_type": "display_data"
    }
   ],
   "source": [
    "sns.barplot(data=full,x='familySize',y='Survived')"
   ]
  },
  {
   "cell_type": "code",
   "execution_count": 27,
   "metadata": {},
   "outputs": [
    {
     "data": {
      "text/plain": [
       "<matplotlib.axes._subplots.AxesSubplot at 0x1a1876d7f0>"
      ]
     },
     "execution_count": 27,
     "metadata": {},
     "output_type": "execute_result"
    },
    {
     "data": {
      "image/png": "[encoded data removed]",
      "text/plain": [
       "<Figure size 432x288 with 1 Axes>"
      ]
     },
     "metadata": {
      "needs_background": "light"
     },
     "output_type": "display_data"
    }
   ],
   "source": [
    "full['Deck'] = full['Cabin'].map(lambda x:x[0])#取首字母\n",
    "sns.barplot(data=full,x='Deck',y='Survived')"
   ]
  },
  {
   "cell_type": "code",
   "execution_count": 28,
   "metadata": {},
   "outputs": [
    {
     "data": {
      "text/plain": [
       "CA. 2343              11\n",
       "CA 2144                8\n",
       "1601                   8\n",
       "3101295                7\n",
       "347077                 7\n",
       "PC 17608               7\n",
       "347082                 7\n",
       "S.O.C. 14879           7\n",
       "347088                 6\n",
       "382652                 6\n",
       "19950                  6\n",
       "113781                 6\n",
       "113503                 5\n",
       "220845                 5\n",
       "349909                 5\n",
       "16966                  5\n",
       "PC 17757               5\n",
       "4133                   5\n",
       "W./C. 6608             5\n",
       "36928                  4\n",
       "PC 17483               4\n",
       "SC/Paris 2123          4\n",
       "17421                  4\n",
       "W./C. 6607             4\n",
       "LINE                   4\n",
       "230136                 4\n",
       "24160                  4\n",
       "C.A. 2315              4\n",
       "113760                 4\n",
       "2666                   4\n",
       "                      ..\n",
       "229236                 1\n",
       "345770                 1\n",
       "PC 17476               1\n",
       "363611                 1\n",
       "237735                 1\n",
       "9232                   1\n",
       "350054                 1\n",
       "348121                 1\n",
       "211535                 1\n",
       "349241                 1\n",
       "SOTON/O.Q. 3101311     1\n",
       "STON/O 2. 3101288      1\n",
       "7553                   1\n",
       "SOTON/O.Q. 3101263     1\n",
       "345765                 1\n",
       "347078                 1\n",
       "PC 17473               1\n",
       "SOTON/O.Q. 3101314     1\n",
       "STON/O2. 3101282       1\n",
       "349257                 1\n",
       "370377                 1\n",
       "347466                 1\n",
       "349249                 1\n",
       "347087                 1\n",
       "364506                 1\n",
       "PC 17580               1\n",
       "5727                   1\n",
       "113784                 1\n",
       "113783                 1\n",
       "250652                 1\n",
       "Name: Ticket, Length: 929, dtype: int64"
      ]
     },
     "execution_count": 28,
     "metadata": {},
     "output_type": "execute_result"
    }
   ],
   "source": [
    "TickCountDict={}\n",
    "TickCountDict = full['Ticket'].value_counts()\n",
    "TickCountDict"
   ]
  },
  {
   "cell_type": "code",
   "execution_count": 29,
   "metadata": {},
   "outputs": [],
   "source": [
    "full['TickCot']= full['Ticket'].map(TickCountDict)"
   ]
  },
  {
   "cell_type": "code",
   "execution_count": 30,
   "metadata": {},
   "outputs": [
    {
     "data": {
      "text/plain": [
       "<matplotlib.axes._subplots.AxesSubplot at 0x1a18866780>"
      ]
     },
     "execution_count": 30,
     "metadata": {},
     "output_type": "execute_result"
    },
    {
     "data": {
      "image/png": "[encoded data removed]",
      "text/plain": [
       "<Figure size 432x288 with 1 Axes>"
      ]
     },
     "metadata": {
      "needs_background": "light"
     },
     "output_type": "display_data"
    }
   ],
   "source": [
    "sns.barplot(data=full,x='TickCot',y='Survived')"
   ]
  },
  {
   "cell_type": "code",
   "execution_count": 31,
   "metadata": {},
   "outputs": [
    {
     "data": {
      "text/plain": [
       "<matplotlib.axes._subplots.AxesSubplot at 0x1a18976f28>"
      ]
     },
     "execution_count": 31,
     "metadata": {},
     "output_type": "execute_result"
    },
    {
     "data": {
      "image/png": "[encoded data removed]",
      "text/plain": [
       "<Figure size 432x288 with 1 Axes>"
      ]
     },
     "metadata": {
      "needs_background": "light"
     },
     "output_type": "display_data"
    }
   ],
   "source": [
    "#按照TickCot大小，将TickGroup分为三类。\n",
    "def TickCountGroup(num):\n",
    "    if (num>=2)&(num<=4):\n",
    "        return 0\n",
    "    elif (num==1)|((num>=5)&(num<=8)):\n",
    "        return 1\n",
    "    else :\n",
    "        return 2\n",
    "#得到各位乘客TickGroup的类别\n",
    "full['TickGroup']=full['TickCot'].map(TickCountGroup)\n",
    "#查看TickGroup与Survived之间关系\n",
    "sns.barplot(data=full,x='TickGroup',y='Survived')"
   ]
  },
  {
   "cell_type": "code",
   "execution_count": 32,
   "metadata": {},
   "outputs": [
    {
     "data": {
      "text/plain": [
       "263"
      ]
     },
     "execution_count": 32,
     "metadata": {},
     "output_type": "execute_result"
    }
   ],
   "source": [
    "full['Age'].isnull().sum()"
   ]
  },
  {
   "cell_type": "markdown",
   "metadata": {},
   "source": [
    "4.2.5Age缺失值填充-构建随机森林模型预测缺失的数据\n",
    "\n",
    "查看Age与Parch、Pclass、Sex、SibSp、Title、familyNum、familySize、Deck、TickCot、TickGroup等变量的相关系数大小，筛选出相关性较高的变量构建预测模型。"
   ]
  },
  {
   "cell_type": "code",
   "execution_count": 33,
   "metadata": {},
   "outputs": [],
   "source": [
    "AgePre = full[['Age','Parch','Pclass','SibSp','Title','familyNum','TickCot']]\n",
    "#进行one-hot编码\n",
    "AgePre=pd.get_dummies(AgePre)\n",
    "ParAge=pd.get_dummies(AgePre['Parch'],prefix='Parch')\n",
    "SibAge=pd.get_dummies(AgePre['SibSp'],prefix='SibSp')\n",
    "PclAge=pd.get_dummies(AgePre['Pclass'],prefix='Pclass')"
   ]
  },
  {
   "cell_type": "code",
   "execution_count": 34,
   "metadata": {},
   "outputs": [
    {
     "data": {
      "text/html": [
       "<div>\n",
       "<style scoped>\n",
       "    .dataframe tbody tr th:only-of-type {\n",
       "        vertical-align: middle;\n",
       "    }\n",
       "\n",
       "    .dataframe tbody tr th {\n",
       "        vertical-align: top;\n",
       "    }\n",
       "\n",
       "    .dataframe thead th {\n",
       "        text-align: right;\n",
       "    }\n",
       "</style>\n",
       "<table border=\"1\" class=\"dataframe\">\n",
       "  <thead>\n",
       "    <tr style=\"text-align: right;\">\n",
       "      <th></th>\n",
       "      <th>Age</th>\n",
       "      <th>Parch</th>\n",
       "      <th>Pclass</th>\n",
       "      <th>SibSp</th>\n",
       "      <th>familyNum</th>\n",
       "      <th>TickCot</th>\n",
       "      <th>Title_Master</th>\n",
       "      <th>Title_Miss</th>\n",
       "      <th>Title_Mr</th>\n",
       "      <th>Title_Mrs</th>\n",
       "      <th>Title_Officer</th>\n",
       "      <th>Title_Royalty</th>\n",
       "    </tr>\n",
       "  </thead>\n",
       "  <tbody>\n",
       "    <tr>\n",
       "      <th>0</th>\n",
       "      <td>22.0</td>\n",
       "      <td>0</td>\n",
       "      <td>3</td>\n",
       "      <td>1</td>\n",
       "      <td>2</td>\n",
       "      <td>1</td>\n",
       "      <td>0</td>\n",
       "      <td>0</td>\n",
       "      <td>1</td>\n",
       "      <td>0</td>\n",
       "      <td>0</td>\n",
       "      <td>0</td>\n",
       "    </tr>\n",
       "    <tr>\n",
       "      <th>1</th>\n",
       "      <td>38.0</td>\n",
       "      <td>0</td>\n",
       "      <td>1</td>\n",
       "      <td>1</td>\n",
       "      <td>2</td>\n",
       "      <td>2</td>\n",
       "      <td>0</td>\n",
       "      <td>0</td>\n",
       "      <td>0</td>\n",
       "      <td>1</td>\n",
       "      <td>0</td>\n",
       "      <td>0</td>\n",
       "    </tr>\n",
       "    <tr>\n",
       "      <th>2</th>\n",
       "      <td>26.0</td>\n",
       "      <td>0</td>\n",
       "      <td>3</td>\n",
       "      <td>0</td>\n",
       "      <td>1</td>\n",
       "      <td>1</td>\n",
       "      <td>0</td>\n",
       "      <td>1</td>\n",
       "      <td>0</td>\n",
       "      <td>0</td>\n",
       "      <td>0</td>\n",
       "      <td>0</td>\n",
       "    </tr>\n",
       "    <tr>\n",
       "      <th>3</th>\n",
       "      <td>35.0</td>\n",
       "      <td>0</td>\n",
       "      <td>1</td>\n",
       "      <td>1</td>\n",
       "      <td>2</td>\n",
       "      <td>2</td>\n",
       "      <td>0</td>\n",
       "      <td>0</td>\n",
       "      <td>0</td>\n",
       "      <td>1</td>\n",
       "      <td>0</td>\n",
       "      <td>0</td>\n",
       "    </tr>\n",
       "    <tr>\n",
       "      <th>4</th>\n",
       "      <td>35.0</td>\n",
       "      <td>0</td>\n",
       "      <td>3</td>\n",
       "      <td>0</td>\n",
       "      <td>1</td>\n",
       "      <td>1</td>\n",
       "      <td>0</td>\n",
       "      <td>0</td>\n",
       "      <td>1</td>\n",
       "      <td>0</td>\n",
       "      <td>0</td>\n",
       "      <td>0</td>\n",
       "    </tr>\n",
       "  </tbody>\n",
       "</table>\n",
       "</div>"
      ],
      "text/plain": [
       "    Age  Parch  Pclass  SibSp  familyNum  TickCot  Title_Master  Title_Miss  \\\n",
       "0  22.0      0       3      1          2        1             0           0   \n",
       "1  38.0      0       1      1          2        2             0           0   \n",
       "2  26.0      0       3      0          1        1             0           1   \n",
       "3  35.0      0       1      1          2        2             0           0   \n",
       "4  35.0      0       3      0          1        1             0           0   \n",
       "\n",
       "   Title_Mr  Title_Mrs  Title_Officer  Title_Royalty  \n",
       "0         1          0              0              0  \n",
       "1         0          1              0              0  \n",
       "2         0          0              0              0  \n",
       "3         0          1              0              0  \n",
       "4         1          0              0              0  "
      ]
     },
     "execution_count": 34,
     "metadata": {},
     "output_type": "execute_result"
    }
   ],
   "source": [
    "AgePre[:5]"
   ]
  },
  {
   "cell_type": "code",
   "execution_count": 35,
   "metadata": {},
   "outputs": [
    {
     "data": {
      "text/plain": [
       "Pclass          -0.408106\n",
       "Title_Master    -0.385380\n",
       "Title_Miss      -0.282977\n",
       "SibSp           -0.243699\n",
       "familyNum       -0.240229\n",
       "TickCot         -0.185284\n",
       "Parch           -0.150917\n",
       "Title_Royalty    0.057337\n",
       "Title_Officer    0.166771\n",
       "Title_Mr         0.183965\n",
       "Title_Mrs        0.215091\n",
       "Age              1.000000\n",
       "Name: Age, dtype: float64"
      ]
     },
     "execution_count": 35,
     "metadata": {},
     "output_type": "execute_result"
    }
   ],
   "source": [
    "Agecorr = pd.DataFrame()\n",
    "Agecorr = AgePre.corr()\n",
    "Agecorr['Age'].sort_values()"
   ]
  },
  {
   "cell_type": "code",
   "execution_count": 36,
   "metadata": {},
   "outputs": [
    {
     "data": {
      "text/html": [
       "<div>\n",
       "<style scoped>\n",
       "    .dataframe tbody tr th:only-of-type {\n",
       "        vertical-align: middle;\n",
       "    }\n",
       "\n",
       "    .dataframe tbody tr th {\n",
       "        vertical-align: top;\n",
       "    }\n",
       "\n",
       "    .dataframe thead th {\n",
       "        text-align: right;\n",
       "    }\n",
       "</style>\n",
       "<table border=\"1\" class=\"dataframe\">\n",
       "  <thead>\n",
       "    <tr style=\"text-align: right;\">\n",
       "      <th></th>\n",
       "      <th>Age</th>\n",
       "      <th>Parch</th>\n",
       "      <th>Pclass</th>\n",
       "      <th>SibSp</th>\n",
       "      <th>familyNum</th>\n",
       "      <th>TickCot</th>\n",
       "      <th>Title_Master</th>\n",
       "      <th>Title_Miss</th>\n",
       "      <th>Title_Mr</th>\n",
       "      <th>Title_Mrs</th>\n",
       "      <th>...</th>\n",
       "      <th>SibSp_0</th>\n",
       "      <th>SibSp_1</th>\n",
       "      <th>SibSp_2</th>\n",
       "      <th>SibSp_3</th>\n",
       "      <th>SibSp_4</th>\n",
       "      <th>SibSp_5</th>\n",
       "      <th>SibSp_8</th>\n",
       "      <th>Pclass_1</th>\n",
       "      <th>Pclass_2</th>\n",
       "      <th>Pclass_3</th>\n",
       "    </tr>\n",
       "  </thead>\n",
       "  <tbody>\n",
       "    <tr>\n",
       "      <th>0</th>\n",
       "      <td>22.0</td>\n",
       "      <td>0</td>\n",
       "      <td>3</td>\n",
       "      <td>1</td>\n",
       "      <td>2</td>\n",
       "      <td>1</td>\n",
       "      <td>0</td>\n",
       "      <td>0</td>\n",
       "      <td>1</td>\n",
       "      <td>0</td>\n",
       "      <td>...</td>\n",
       "      <td>0</td>\n",
       "      <td>1</td>\n",
       "      <td>0</td>\n",
       "      <td>0</td>\n",
       "      <td>0</td>\n",
       "      <td>0</td>\n",
       "      <td>0</td>\n",
       "      <td>0</td>\n",
       "      <td>0</td>\n",
       "      <td>1</td>\n",
       "    </tr>\n",
       "    <tr>\n",
       "      <th>1</th>\n",
       "      <td>38.0</td>\n",
       "      <td>0</td>\n",
       "      <td>1</td>\n",
       "      <td>1</td>\n",
       "      <td>2</td>\n",
       "      <td>2</td>\n",
       "      <td>0</td>\n",
       "      <td>0</td>\n",
       "      <td>0</td>\n",
       "      <td>1</td>\n",
       "      <td>...</td>\n",
       "      <td>0</td>\n",
       "      <td>1</td>\n",
       "      <td>0</td>\n",
       "      <td>0</td>\n",
       "      <td>0</td>\n",
       "      <td>0</td>\n",
       "      <td>0</td>\n",
       "      <td>1</td>\n",
       "      <td>0</td>\n",
       "      <td>0</td>\n",
       "    </tr>\n",
       "    <tr>\n",
       "      <th>2</th>\n",
       "      <td>26.0</td>\n",
       "      <td>0</td>\n",
       "      <td>3</td>\n",
       "      <td>0</td>\n",
       "      <td>1</td>\n",
       "      <td>1</td>\n",
       "      <td>0</td>\n",
       "      <td>1</td>\n",
       "      <td>0</td>\n",
       "      <td>0</td>\n",
       "      <td>...</td>\n",
       "      <td>1</td>\n",
       "      <td>0</td>\n",
       "      <td>0</td>\n",
       "      <td>0</td>\n",
       "      <td>0</td>\n",
       "      <td>0</td>\n",
       "      <td>0</td>\n",
       "      <td>0</td>\n",
       "      <td>0</td>\n",
       "      <td>1</td>\n",
       "    </tr>\n",
       "    <tr>\n",
       "      <th>3</th>\n",
       "      <td>35.0</td>\n",
       "      <td>0</td>\n",
       "      <td>1</td>\n",
       "      <td>1</td>\n",
       "      <td>2</td>\n",
       "      <td>2</td>\n",
       "      <td>0</td>\n",
       "      <td>0</td>\n",
       "      <td>0</td>\n",
       "      <td>1</td>\n",
       "      <td>...</td>\n",
       "      <td>0</td>\n",
       "      <td>1</td>\n",
       "      <td>0</td>\n",
       "      <td>0</td>\n",
       "      <td>0</td>\n",
       "      <td>0</td>\n",
       "      <td>0</td>\n",
       "      <td>1</td>\n",
       "      <td>0</td>\n",
       "      <td>0</td>\n",
       "    </tr>\n",
       "    <tr>\n",
       "      <th>4</th>\n",
       "      <td>35.0</td>\n",
       "      <td>0</td>\n",
       "      <td>3</td>\n",
       "      <td>0</td>\n",
       "      <td>1</td>\n",
       "      <td>1</td>\n",
       "      <td>0</td>\n",
       "      <td>0</td>\n",
       "      <td>1</td>\n",
       "      <td>0</td>\n",
       "      <td>...</td>\n",
       "      <td>1</td>\n",
       "      <td>0</td>\n",
       "      <td>0</td>\n",
       "      <td>0</td>\n",
       "      <td>0</td>\n",
       "      <td>0</td>\n",
       "      <td>0</td>\n",
       "      <td>0</td>\n",
       "      <td>0</td>\n",
       "      <td>1</td>\n",
       "    </tr>\n",
       "  </tbody>\n",
       "</table>\n",
       "<p>5 rows × 30 columns</p>\n",
       "</div>"
      ],
      "text/plain": [
       "    Age  Parch  Pclass  SibSp  familyNum  TickCot  Title_Master  Title_Miss  \\\n",
       "0  22.0      0       3      1          2        1             0           0   \n",
       "1  38.0      0       1      1          2        2             0           0   \n",
       "2  26.0      0       3      0          1        1             0           1   \n",
       "3  35.0      0       1      1          2        2             0           0   \n",
       "4  35.0      0       3      0          1        1             0           0   \n",
       "\n",
       "   Title_Mr  Title_Mrs  ...  SibSp_0  SibSp_1  SibSp_2  SibSp_3  SibSp_4  \\\n",
       "0         1          0  ...        0        1        0        0        0   \n",
       "1         0          1  ...        0        1        0        0        0   \n",
       "2         0          0  ...        1        0        0        0        0   \n",
       "3         0          1  ...        0        1        0        0        0   \n",
       "4         1          0  ...        1        0        0        0        0   \n",
       "\n",
       "   SibSp_5  SibSp_8  Pclass_1  Pclass_2  Pclass_3  \n",
       "0        0        0         0         0         1  \n",
       "1        0        0         1         0         0  \n",
       "2        0        0         0         0         1  \n",
       "3        0        0         1         0         0  \n",
       "4        0        0         0         0         1  \n",
       "\n",
       "[5 rows x 30 columns]"
      ]
     },
     "execution_count": 36,
     "metadata": {},
     "output_type": "execute_result"
    }
   ],
   "source": [
    "AgePre=pd.concat([AgePre,ParAge,SibAge,PclAge],axis=1)\n",
    "AgePre.head()"
   ]
  },
  {
   "cell_type": "code",
   "execution_count": 37,
   "metadata": {},
   "outputs": [
    {
     "data": {
      "text/plain": [
       "RandomForestRegressor(bootstrap=True, criterion='mse', max_depth=None,\n",
       "                      max_features='auto', max_leaf_nodes=None,\n",
       "                      min_impurity_decrease=0.0, min_impurity_split=None,\n",
       "                      min_samples_leaf=1, min_samples_split=2,\n",
       "                      min_weight_fraction_leaf=0.0, n_estimators=400, n_jobs=-1,\n",
       "                      oob_score=False, random_state=None, verbose=0,\n",
       "                      warm_start=False)"
      ]
     },
     "execution_count": 37,
     "metadata": {},
     "output_type": "execute_result"
    }
   ],
   "source": [
    "#数据拆分为实验集和预测集建立模型\n",
    "train = AgePre[AgePre['Age'].notnull()]#train\n",
    "test = AgePre[AgePre['Age'].isnull()]#test\n",
    "\n",
    "#生成特征和标签\n",
    "\n",
    "train_x = train.drop(['Age'],axis=1)\n",
    "train_y = train['Age']\n",
    "\n",
    "\n",
    "#test的特征\n",
    "test_x = test.drop(['Age'],axis=1)\n",
    "\n",
    "from sklearn.ensemble import RandomForestRegressor\n",
    "\n",
    "tfr = RandomForestRegressor(random_state=None,n_estimators=400,n_jobs=-1)\n",
    "tfr.fit(train_x,train_y)\n",
    "\n"
   ]
  },
  {
   "cell_type": "code",
   "execution_count": 38,
   "metadata": {},
   "outputs": [
    {
     "data": {
      "text/plain": [
       "0.5876364483079665"
      ]
     },
     "execution_count": 38,
     "metadata": {},
     "output_type": "execute_result"
    }
   ],
   "source": [
    "tfr.score(train_x,train_y)"
   ]
  },
  {
   "cell_type": "code",
   "execution_count": 39,
   "metadata": {},
   "outputs": [
    {
     "data": {
      "text/plain": [
       "(263,)"
      ]
     },
     "execution_count": 39,
     "metadata": {},
     "output_type": "execute_result"
    }
   ],
   "source": [
    "test_y = tfr.predict(test_x)\n",
    "test_y.shape"
   ]
  },
  {
   "cell_type": "code",
   "execution_count": 40,
   "metadata": {},
   "outputs": [],
   "source": [
    "# full['Age'].isnull().sum()"
   ]
  },
  {
   "cell_type": "code",
   "execution_count": 41,
   "metadata": {},
   "outputs": [],
   "source": [
    "full.loc[full['Age'].isnull(),['Age']] =test_y"
   ]
  },
  {
   "cell_type": "markdown",
   "metadata": {},
   "source": [
    "# 4.3同组识别\n",
    "\n",
    "虽然通过分析数据已有特征与标签的关系可以构建有效的预测模型，但是部分具有明显共同特征的用户可能与整体模型逻辑并不一致。如果将这部分具有同组效应的用户识别出来并对其数据加以修正，就可以有效提高模型的准确率。在Titancic案例中，我们主要探究相同姓氏的乘客是否存在明显的同组效应。\n",
    "\n",
    "提取两部分数据，分别查看其“姓氏”是否存在同组效应（因为性别和年龄与乘客生存率关系最为密切，因此用这两个特征作为分类条件）：\n",
    "\n",
    "1.12岁以上男性：找出男性中同姓氏均获救的部分；\\n\n",
    "2.女性以及年龄在12岁以下儿童：找出女性及儿童中同姓氏均遇难的部分。\n"
   ]
  },
  {
   "cell_type": "code",
   "execution_count": 42,
   "metadata": {},
   "outputs": [],
   "source": [
    "full['Suname'] = full['Name'].map(lambda x:x.split(',')[0].strip())\n",
    "SurName ={}\n",
    "SurName = full['Suname'].value_counts()\n",
    "full['SurnameNum'] = full['Suname'].map(SurName)\n",
    "\n",
    "MaleDf=full[(full['Sex']=='male')&(full['Age']>12)&(full['familyNum']>=2)]\n",
    "FemChildDf=full[((full['Sex']=='female')|(full['Age']<=12))&(full['familyNum']>=2)]"
   ]
  },
  {
   "cell_type": "code",
   "execution_count": 43,
   "metadata": {},
   "outputs": [
    {
     "data": {
      "text/plain": [
       "0.0    89\n",
       "1.0    19\n",
       "0.5     3\n",
       "Name: Survived, dtype: int64"
      ]
     },
     "execution_count": 43,
     "metadata": {},
     "output_type": "execute_result"
    }
   ],
   "source": [
    "#分析男性同组效应\n",
    "MSurNamDf=MaleDf['Survived'].groupby(MaleDf['Suname']).mean()\n",
    "MSurNamDf.value_counts()"
   ]
  },
  {
   "cell_type": "code",
   "execution_count": 44,
   "metadata": {},
   "outputs": [
    {
     "data": {
      "text/plain": [
       "Index(['Beane', 'Beckwith', 'Bishop', 'Cardeza', 'Chambers', 'Dick',\n",
       "       'Duff Gordon', 'Frauenthal', 'Frolicher-Stehli', 'Goldenberg',\n",
       "       'Greenfield', 'Harder', 'Hoyt', 'Kimball', 'Lindqvist', 'McCoy',\n",
       "       'Nakid', 'Persson', 'Taylor'],\n",
       "      dtype='object', name='Suname')"
      ]
     },
     "execution_count": 44,
     "metadata": {},
     "output_type": "execute_result"
    }
   ],
   "source": [
    "#获得生存率为1的姓氏\n",
    "MSurdic ={}\n",
    "MSurdic = MSurNamDf[MSurNamDf.values==1].index\n",
    "MSurdic"
   ]
  },
  {
   "cell_type": "code",
   "execution_count": 45,
   "metadata": {},
   "outputs": [
    {
     "data": {
      "text/plain": [
       "1.000000    115\n",
       "0.000000     27\n",
       "0.750000      2\n",
       "0.333333      1\n",
       "0.142857      1\n",
       "Name: Survived, dtype: int64"
      ]
     },
     "execution_count": 45,
     "metadata": {},
     "output_type": "execute_result"
    }
   ],
   "source": [
    "#分析女性及儿童同组效应\n",
    "FCSurNamDf=FemChildDf['Survived'].groupby(FemChildDf['Suname']).mean()\n",
    "FCSurNamDf.value_counts()"
   ]
  },
  {
   "cell_type": "code",
   "execution_count": 46,
   "metadata": {},
   "outputs": [
    {
     "data": {
      "text/plain": [
       "Index(['Ahlin', 'Arnold-Franchi', 'Barbara', 'Boulos', 'Bourke', 'Caram',\n",
       "       'Danbom', 'Ford', 'Goodwin', 'Ilmakangas', 'Johnston', 'Jussila',\n",
       "       'Lahtinen', 'Lefebre', 'Lobb', 'Palsson', 'Panula', 'Rice', 'Robins',\n",
       "       'Rosblom', 'Sage', 'Skoog', 'Strom', 'Turpin', 'Van Impe',\n",
       "       'Vander Planke', 'Zabour'],\n",
       "      dtype='object', name='Suname')"
      ]
     },
     "execution_count": 46,
     "metadata": {},
     "output_type": "execute_result"
    }
   ],
   "source": [
    "#获得生存率为0的姓氏\n",
    "FCSurNamDict={}\n",
    "FCSurNamDict=FCSurNamDf[FCSurNamDf.values==0].index\n",
    "FCSurNamDict"
   ]
  },
  {
   "cell_type": "markdown",
   "metadata": {},
   "source": [
    "# 男性数据修正为：1、性别改为女；2、年龄改为5；\n",
    "\n",
    "女性及儿童数据修正为：1、性别改为男；2、年龄改为60。"
   ]
  },
  {
   "cell_type": "code",
   "execution_count": 48,
   "metadata": {},
   "outputs": [],
   "source": [
    "# #对数据集中这些姓氏的男性数据进行修正：1、性别改为女；2、年龄改为5。\n",
    "# full.loc[(full['Survived'].isnull())&(full['Suname'].isin(MSurNamDict))&(full['Sex']=='male'),'Age']=5\n",
    "# full.loc[(full['Survived'].isnull())&(full['Suname'].isin(MSurNamDict))&(full['Sex']=='male'),'Sex']='female'\n",
    "\n",
    "# #对数据集中这些姓氏的女性及儿童的数据进行修正：1、性别改为男；2、年龄改为60。\n",
    "# full.loc[(full['Survived'].isnull())&(full['Suname'].isin(FCSurNamDict))&((full['Sex']=='female')|(full['Age']<=12)),'Age']=60\n",
    "# full.loc[(full['Survived'].isnull())&(full['Suname'].isin(FCSurNamDict))&((full['Sex']=='female')|(full['Age']<=12)),'Sex']='male'"
   ]
  },
  {
   "cell_type": "code",
   "execution_count": 49,
   "metadata": {},
   "outputs": [
    {
     "data": {
      "text/plain": [
       "Pclass       -0.338481\n",
       "TickGroup    -0.319278\n",
       "Age          -0.059793\n",
       "SibSp        -0.035322\n",
       "familyNum     0.016639\n",
       "TickCot       0.064962\n",
       "Parch         0.081629\n",
       "familySize    0.108631\n",
       "Fare          0.329799\n",
       "Survived      1.000000\n",
       "Name: Survived, dtype: float64"
      ]
     },
     "execution_count": 49,
     "metadata": {},
     "output_type": "execute_result"
    }
   ],
   "source": [
    "#数据的维度增加了，需要降维了\n",
    "\n",
    "#人工筛选\n",
    "fullSel=full.drop(['Cabin','Name','Ticket','PassengerId','Suname','SurnameNum'],axis=1)\n",
    "#查看各特征与标签的相关性\n",
    "corrDf=pd.DataFrame()\n",
    "corrDf=fullSel.corr()\n",
    "corrDf['Survived'].sort_values(ascending=True)"
   ]
  },
  {
   "cell_type": "code",
   "execution_count": 50,
   "metadata": {},
   "outputs": [
    {
     "data": {
      "text/plain": [
       "(array([0.5, 1.5, 2.5, 3.5, 4.5, 5.5, 6.5, 7.5, 8.5, 9.5]),\n",
       " <a list of 10 Text xticklabel objects>)"
      ]
     },
     "execution_count": 50,
     "metadata": {},
     "output_type": "execute_result"
    },
    {
     "data": {
      "image/png": "[encoded data removed]",
      "text/plain": [
       "<Figure size 576x576 with 2 Axes>"
      ]
     },
     "metadata": {
      "needs_background": "light"
     },
     "output_type": "display_data"
    }
   ],
   "source": [
    "#热力图，查看Survived与其他特征间相关性大小\n",
    "plt.figure(figsize=(8,8))\n",
    "sns.heatmap(fullSel[['Survived','Age','Embarked','Fare','Parch','Pclass',\n",
    "                    'Sex','SibSp','Title','familyNum','familySize','Deck',\n",
    "                     'TickCot','TickGroup']].corr(),cmap='BrBG',annot=True,\n",
    "           linewidths=.5)\n",
    "plt.xticks(rotation=45)"
   ]
  },
  {
   "cell_type": "code",
   "execution_count": 51,
   "metadata": {},
   "outputs": [],
   "source": [
    "fullSel=fullSel.drop(['familyNum','SibSp','TickCot','Parch'],axis=1)\n",
    "#one-hot编码\n",
    "fullSel=pd.get_dummies(fullSel)\n",
    "PclassDf=pd.get_dummies(full['Pclass'],prefix='Pclass')\n",
    "TickGroupDf=pd.get_dummies(full['TickGroup'],prefix='TickGroup')\n",
    "familySizeDf=pd.get_dummies(full['familySize'],prefix='familySize')\n",
    "\n",
    "fullSel=pd.concat([fullSel,PclassDf,TickGroupDf,familySizeDf],axis=1)"
   ]
  },
  {
   "cell_type": "markdown",
   "metadata": {},
   "source": [
    "# 模型选择"
   ]
  },
  {
   "cell_type": "code",
   "execution_count": 52,
   "metadata": {},
   "outputs": [],
   "source": [
    "#拆分实验集预测集\n",
    "new_train = fullSel[fullSel['Survived'].notnull()]\n",
    "new_pre = fullSel[fullSel['Survived'].isnull()]\n",
    "\n",
    "new_train_x = new_train.drop('Survived',axis=1)\n",
    "new_train_y = new_train['Survived']\n",
    "\n",
    "new_pre_x = new_pre.drop('Survived',axis=1)"
   ]
  },
  {
   "cell_type": "code",
   "execution_count": 53,
   "metadata": {},
   "outputs": [],
   "source": [
    "import xgboost as xgb\n",
    "from sklearn.model_selection import train_test_split\n",
    "\n",
    "x_train, x_test , y_train ,y_test = train_test_split(new_train_x,new_train_y,test_size=0.7,random_state=1)\n"
   ]
  },
  {
   "cell_type": "code",
   "execution_count": 56,
   "metadata": {},
   "outputs": [],
   "source": [
    "\n",
    "def show_accuracy(a, b, tip):\n",
    "    acc= a.ravel() == b.ravel()\n",
    "    acc_rate = 100 * float(acc.sum()) / a.size\n",
    "    print('%s accuracy:%.3f%%' %(tip, acc_rate))\n",
    "    return acc_rate\n"
   ]
  },
  {
   "cell_type": "code",
   "execution_count": 57,
   "metadata": {},
   "outputs": [
    {
     "name": "stdout",
     "output_type": "stream",
     "text": [
      "[0]\teval-error:0.195513\ttrain-error:0.104869\n",
      "[1]\teval-error:0.189103\ttrain-error:0.093633\n",
      "[2]\teval-error:0.184295\ttrain-error:0.071161\n",
      "[3]\teval-error:0.192308\ttrain-error:0.059925\n",
      "[4]\teval-error:0.197115\ttrain-error:0.052434\n",
      "[5]\teval-error:0.197115\ttrain-error:0.05618\n",
      "[6]\teval-error:0.200321\ttrain-error:0.052434\n",
      "[7]\teval-error:0.203526\ttrain-error:0.052434\n",
      "[8]\teval-error:0.206731\ttrain-error:0.037453\n",
      "[9]\teval-error:0.213141\ttrain-error:0.037453\n",
      "[10]\teval-error:0.214744\ttrain-error:0.026217\n",
      "[11]\teval-error:0.206731\ttrain-error:0.022472\n",
      "[12]\teval-error:0.203526\ttrain-error:0.022472\n",
      "[13]\teval-error:0.203526\ttrain-error:0.014981\n",
      "[14]\teval-error:0.19391\ttrain-error:0.014981\n",
      "[15]\teval-error:0.201923\ttrain-error:0.014981\n",
      "[16]\teval-error:0.200321\ttrain-error:0.011236\n",
      "[17]\teval-error:0.200321\ttrain-error:0.007491\n",
      "[18]\teval-error:0.201923\ttrain-error:0.011236\n",
      "[19]\teval-error:0.200321\ttrain-error:0.007491\n",
      "[20]\teval-error:0.203526\ttrain-error:0.007491\n",
      "[21]\teval-error:0.203526\ttrain-error:0.007491\n",
      "[22]\teval-error:0.203526\ttrain-error:0.003745\n",
      "[23]\teval-error:0.201923\ttrain-error:0.007491\n",
      "[24]\teval-error:0.200321\ttrain-error:0.003745\n",
      "[25]\teval-error:0.198718\ttrain-error:0.007491\n",
      "[26]\teval-error:0.200321\ttrain-error:0.003745\n",
      "[27]\teval-error:0.211538\ttrain-error:0.003745\n",
      "[28]\teval-error:0.206731\ttrain-error:0.003745\n",
      "[29]\teval-error:0.211538\ttrain-error:0.003745\n",
      "[30]\teval-error:0.208333\ttrain-error:0.003745\n",
      "[31]\teval-error:0.209936\ttrain-error:0.003745\n",
      "[32]\teval-error:0.209936\ttrain-error:0.007491\n",
      "[33]\teval-error:0.213141\ttrain-error:0.007491\n",
      "[34]\teval-error:0.209936\ttrain-error:0.003745\n",
      "[35]\teval-error:0.211538\ttrain-error:0.007491\n",
      "[36]\teval-error:0.213141\ttrain-error:0.003745\n",
      "[37]\teval-error:0.211538\ttrain-error:0.003745\n",
      "[38]\teval-error:0.211538\ttrain-error:0.003745\n",
      "[39]\teval-error:0.214744\ttrain-error:0.003745\n",
      "[40]\teval-error:0.216346\ttrain-error:0.003745\n",
      "[41]\teval-error:0.214744\ttrain-error:0.003745\n",
      "[42]\teval-error:0.211538\ttrain-error:0.003745\n",
      "[43]\teval-error:0.217949\ttrain-error:0.003745\n",
      "[44]\teval-error:0.217949\ttrain-error:0.003745\n",
      "[45]\teval-error:0.213141\ttrain-error:0.003745\n",
      "[46]\teval-error:0.213141\ttrain-error:0.003745\n",
      "[47]\teval-error:0.213141\ttrain-error:0.003745\n",
      "[48]\teval-error:0.214744\ttrain-error:0.003745\n",
      "[49]\teval-error:0.219551\ttrain-error:0.003745\n",
      "[50]\teval-error:0.219551\ttrain-error:0.003745\n",
      "[51]\teval-error:0.216346\ttrain-error:0.003745\n",
      "[52]\teval-error:0.216346\ttrain-error:0.003745\n",
      "[53]\teval-error:0.216346\ttrain-error:0.003745\n",
      "[54]\teval-error:0.216346\ttrain-error:0.003745\n",
      "[55]\teval-error:0.217949\ttrain-error:0.003745\n",
      "[56]\teval-error:0.217949\ttrain-error:0.003745\n",
      "[57]\teval-error:0.213141\ttrain-error:0.003745\n",
      "[58]\teval-error:0.216346\ttrain-error:0.003745\n",
      "[59]\teval-error:0.213141\ttrain-error:0.003745\n",
      "[60]\teval-error:0.216346\ttrain-error:0.003745\n",
      "[61]\teval-error:0.219551\ttrain-error:0.003745\n",
      "[62]\teval-error:0.219551\ttrain-error:0.003745\n",
      "[63]\teval-error:0.221154\ttrain-error:0.003745\n",
      "[64]\teval-error:0.219551\ttrain-error:0.003745\n",
      "[65]\teval-error:0.219551\ttrain-error:0.003745\n",
      "[66]\teval-error:0.216346\ttrain-error:0.003745\n",
      "[67]\teval-error:0.217949\ttrain-error:0.003745\n",
      "[68]\teval-error:0.216346\ttrain-error:0.003745\n",
      "[69]\teval-error:0.217949\ttrain-error:0.003745\n",
      "[70]\teval-error:0.216346\ttrain-error:0.003745\n",
      "[71]\teval-error:0.217949\ttrain-error:0.003745\n",
      "[72]\teval-error:0.217949\ttrain-error:0.003745\n",
      "[73]\teval-error:0.217949\ttrain-error:0.003745\n",
      "[74]\teval-error:0.216346\ttrain-error:0.003745\n",
      "[75]\teval-error:0.219551\ttrain-error:0.003745\n",
      "[76]\teval-error:0.217949\ttrain-error:0.003745\n",
      "[77]\teval-error:0.217949\ttrain-error:0.003745\n",
      "[78]\teval-error:0.221154\ttrain-error:0.003745\n",
      "[79]\teval-error:0.221154\ttrain-error:0.003745\n",
      "[80]\teval-error:0.219551\ttrain-error:0.003745\n",
      "[81]\teval-error:0.221154\ttrain-error:0.003745\n",
      "[82]\teval-error:0.219551\ttrain-error:0.003745\n",
      "[83]\teval-error:0.221154\ttrain-error:0.003745\n",
      "[84]\teval-error:0.221154\ttrain-error:0.003745\n",
      "[85]\teval-error:0.221154\ttrain-error:0.003745\n",
      "[86]\teval-error:0.221154\ttrain-error:0.003745\n",
      "[87]\teval-error:0.217949\ttrain-error:0.003745\n",
      "[88]\teval-error:0.219551\ttrain-error:0.003745\n",
      "[89]\teval-error:0.221154\ttrain-error:0.003745\n",
      "[90]\teval-error:0.219551\ttrain-error:0.003745\n",
      "[91]\teval-error:0.221154\ttrain-error:0.003745\n",
      "[92]\teval-error:0.221154\ttrain-error:0.003745\n",
      "[93]\teval-error:0.221154\ttrain-error:0.003745\n",
      "[94]\teval-error:0.221154\ttrain-error:0.003745\n",
      "[95]\teval-error:0.221154\ttrain-error:0.003745\n",
      "[96]\teval-error:0.221154\ttrain-error:0.003745\n",
      "[97]\teval-error:0.221154\ttrain-error:0.003745\n",
      "[98]\teval-error:0.221154\ttrain-error:0.003745\n",
      "[99]\teval-error:0.219551\ttrain-error:0.003745\n",
      "[100]\teval-error:0.221154\ttrain-error:0.003745\n",
      "[101]\teval-error:0.221154\ttrain-error:0.003745\n",
      "[102]\teval-error:0.221154\ttrain-error:0.003745\n",
      "[103]\teval-error:0.219551\ttrain-error:0.003745\n",
      "[104]\teval-error:0.219551\ttrain-error:0.003745\n",
      "[105]\teval-error:0.221154\ttrain-error:0.003745\n",
      "[106]\teval-error:0.221154\ttrain-error:0.003745\n",
      "[107]\teval-error:0.221154\ttrain-error:0.003745\n",
      "[108]\teval-error:0.221154\ttrain-error:0.003745\n",
      "[109]\teval-error:0.221154\ttrain-error:0.003745\n",
      "[110]\teval-error:0.221154\ttrain-error:0.003745\n",
      "[111]\teval-error:0.221154\ttrain-error:0.003745\n",
      "[112]\teval-error:0.221154\ttrain-error:0.003745\n",
      "[113]\teval-error:0.221154\ttrain-error:0.003745\n",
      "[114]\teval-error:0.221154\ttrain-error:0.003745\n",
      "[115]\teval-error:0.219551\ttrain-error:0.003745\n",
      "[116]\teval-error:0.221154\ttrain-error:0.003745\n",
      "[117]\teval-error:0.222756\ttrain-error:0.003745\n",
      "[118]\teval-error:0.221154\ttrain-error:0.003745\n",
      "[119]\teval-error:0.221154\ttrain-error:0.003745\n",
      "[120]\teval-error:0.221154\ttrain-error:0.003745\n",
      "[121]\teval-error:0.222756\ttrain-error:0.003745\n",
      "[122]\teval-error:0.222756\ttrain-error:0.003745\n",
      "[123]\teval-error:0.222756\ttrain-error:0.003745\n",
      "[124]\teval-error:0.224359\ttrain-error:0.003745\n",
      "[125]\teval-error:0.222756\ttrain-error:0.003745\n",
      "[126]\teval-error:0.222756\ttrain-error:0.003745\n",
      "[127]\teval-error:0.222756\ttrain-error:0.003745\n",
      "[128]\teval-error:0.222756\ttrain-error:0.003745\n",
      "[129]\teval-error:0.224359\ttrain-error:0.003745\n",
      "[130]\teval-error:0.222756\ttrain-error:0.003745\n",
      "[131]\teval-error:0.222756\ttrain-error:0.003745\n",
      "[132]\teval-error:0.224359\ttrain-error:0.003745\n",
      "[133]\teval-error:0.224359\ttrain-error:0.003745\n",
      "[134]\teval-error:0.222756\ttrain-error:0.003745\n",
      "[135]\teval-error:0.224359\ttrain-error:0.003745\n",
      "[136]\teval-error:0.222756\ttrain-error:0.003745\n",
      "[137]\teval-error:0.222756\ttrain-error:0.003745\n",
      "[138]\teval-error:0.222756\ttrain-error:0.003745\n",
      "[139]\teval-error:0.222756\ttrain-error:0.003745\n",
      "[140]\teval-error:0.221154\ttrain-error:0.003745\n",
      "[141]\teval-error:0.222756\ttrain-error:0.003745\n",
      "[142]\teval-error:0.224359\ttrain-error:0.003745\n",
      "[143]\teval-error:0.221154\ttrain-error:0.003745\n",
      "[144]\teval-error:0.224359\ttrain-error:0.003745\n",
      "[145]\teval-error:0.221154\ttrain-error:0.003745\n",
      "[146]\teval-error:0.222756\ttrain-error:0.003745\n",
      "[147]\teval-error:0.224359\ttrain-error:0.003745\n",
      "[148]\teval-error:0.222756\ttrain-error:0.003745\n",
      "[149]\teval-error:0.221154\ttrain-error:0.003745\n",
      "[150]\teval-error:0.221154\ttrain-error:0.003745\n",
      "[151]\teval-error:0.221154\ttrain-error:0.003745\n",
      "[152]\teval-error:0.221154\ttrain-error:0.003745\n",
      "[153]\teval-error:0.221154\ttrain-error:0.003745\n",
      "[154]\teval-error:0.221154\ttrain-error:0.003745\n",
      "[155]\teval-error:0.221154\ttrain-error:0.003745\n",
      "[156]\teval-error:0.221154\ttrain-error:0.003745\n",
      "[157]\teval-error:0.222756\ttrain-error:0.003745\n",
      "[158]\teval-error:0.222756\ttrain-error:0.003745\n",
      "[159]\teval-error:0.222756\ttrain-error:0.003745\n",
      "[160]\teval-error:0.222756\ttrain-error:0.003745\n",
      "[161]\teval-error:0.222756\ttrain-error:0.003745\n",
      "[162]\teval-error:0.222756\ttrain-error:0.003745\n",
      "[163]\teval-error:0.222756\ttrain-error:0.003745\n",
      "[164]\teval-error:0.222756\ttrain-error:0.003745\n",
      "[165]\teval-error:0.222756\ttrain-error:0.003745\n",
      "[166]\teval-error:0.224359\ttrain-error:0.003745\n",
      "[167]\teval-error:0.222756\ttrain-error:0.003745\n",
      "[168]\teval-error:0.222756\ttrain-error:0.003745\n",
      "[169]\teval-error:0.222756\ttrain-error:0.003745\n",
      "[170]\teval-error:0.222756\ttrain-error:0.003745\n",
      "[171]\teval-error:0.222756\ttrain-error:0.003745\n",
      "[172]\teval-error:0.222756\ttrain-error:0.003745\n",
      "[173]\teval-error:0.221154\ttrain-error:0.003745\n",
      "[174]\teval-error:0.222756\ttrain-error:0.003745\n",
      "[175]\teval-error:0.222756\ttrain-error:0.003745\n",
      "[176]\teval-error:0.219551\ttrain-error:0.003745\n"
     ]
    },
    {
     "name": "stdout",
     "output_type": "stream",
     "text": [
      "[177]\teval-error:0.219551\ttrain-error:0.003745\n",
      "[178]\teval-error:0.219551\ttrain-error:0.003745\n",
      "[179]\teval-error:0.217949\ttrain-error:0.003745\n",
      "[180]\teval-error:0.217949\ttrain-error:0.003745\n",
      "[181]\teval-error:0.219551\ttrain-error:0.003745\n",
      "[182]\teval-error:0.217949\ttrain-error:0.003745\n",
      "[183]\teval-error:0.219551\ttrain-error:0.003745\n",
      "[184]\teval-error:0.217949\ttrain-error:0.003745\n",
      "[185]\teval-error:0.217949\ttrain-error:0.003745\n",
      "[186]\teval-error:0.217949\ttrain-error:0.003745\n",
      "[187]\teval-error:0.217949\ttrain-error:0.003745\n",
      "[188]\teval-error:0.217949\ttrain-error:0.003745\n",
      "[189]\teval-error:0.219551\ttrain-error:0.003745\n",
      "[190]\teval-error:0.219551\ttrain-error:0.003745\n",
      "[191]\teval-error:0.219551\ttrain-error:0.003745\n",
      "[192]\teval-error:0.219551\ttrain-error:0.003745\n",
      "[193]\teval-error:0.221154\ttrain-error:0.003745\n",
      "[194]\teval-error:0.219551\ttrain-error:0.003745\n",
      "[195]\teval-error:0.217949\ttrain-error:0.003745\n",
      "[196]\teval-error:0.219551\ttrain-error:0.003745\n",
      "[197]\teval-error:0.219551\ttrain-error:0.003745\n",
      "[198]\teval-error:0.217949\ttrain-error:0.003745\n",
      "[199]\teval-error:0.219551\ttrain-error:0.003745\n",
      "XGBoost accuracy:78.045%\n"
     ]
    }
   ],
   "source": [
    "data_train = xgb.DMatrix(x_train,label = y_train)\n",
    "data_test = xgb.DMatrix(x_test,label = y_test)\n",
    "watch_list = [(data_test, 'eval'), (data_train, 'train')]\n",
    "param = {'max_depth':6, 'eta':0.8, 'silent':1, 'objective':'binary:logistic'}\n",
    "bst = xgb.train(param, data_train, num_boost_round=200, evals=watch_list)\n",
    "y_hat = bst.predict(data_test)\n",
    "# write_result(bst, 3)\n",
    "y_hat[y_hat > 0.5] = 1\n",
    "y_hat[~(y_hat > 0.5)] = 0\n",
    "xgb_rate = show_accuracy(y_hat, y_test, 'XGBoost')\n",
    "\n"
   ]
  },
  {
   "cell_type": "code",
   "execution_count": null,
   "metadata": {},
   "outputs": [],
   "source": []
  }
 ],
 "metadata": {
  "kernelspec": {
   "display_name": "Python 3",
   "language": "python",
   "name": "python3"
  },
  "language_info": {
   "codemirror_mode": {
    "name": "ipython",
    "version": 3
   },
   "file_extension": ".py",
   "mimetype": "text/x-python",
   "name": "python",
   "nbconvert_exporter": "python",
   "pygments_lexer": "ipython3",
   "version": "3.7.3"
  }
 },
 "nbformat": 4,
 "nbformat_minor": 2
}
